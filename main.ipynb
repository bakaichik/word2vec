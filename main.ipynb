{
 "cells": [
  {
   "cell_type": "markdown",
   "metadata": {},
   "source": [
    "Import packages"
   ]
  },
  {
   "cell_type": "code",
   "execution_count": 45,
   "metadata": {},
   "outputs": [],
   "source": [
    "import torch\n",
    "import torch.nn as nn\n",
    "from torch.utils.data import Dataset, DataLoader\n",
    "import nltk\n",
    "from nltk.corpus import stopwords\n",
    "from nltk.tokenize import word_tokenize\n",
    "import random\n",
    "import matplotlib.pyplot as plt\n",
    "from pathlib import Path\n",
    "import json"
   ]
  },
  {
   "cell_type": "code",
   "execution_count": 10,
   "metadata": {},
   "outputs": [
    {
     "name": "stderr",
     "output_type": "stream",
     "text": [
      "[nltk_data] Downloading package punkt to /home/main/nltk_data...\n",
      "[nltk_data]   Package punkt is already up-to-date!\n",
      "[nltk_data] Downloading package stopwords to /home/main/nltk_data...\n",
      "[nltk_data]   Package stopwords is already up-to-date!\n",
      "[nltk_data] Downloading package punkt_tab to /home/main/nltk_data...\n",
      "[nltk_data]   Unzipping tokenizers/punkt_tab.zip.\n"
     ]
    },
    {
     "data": {
      "text/plain": [
       "True"
      ]
     },
     "execution_count": 10,
     "metadata": {},
     "output_type": "execute_result"
    }
   ],
   "source": [
    "nltk.download('punkt')\n",
    "nltk.download('stopwords')\n",
    "nltk.download('punkt_tab')"
   ]
  },
  {
   "cell_type": "code",
   "execution_count": 6,
   "metadata": {},
   "outputs": [],
   "source": [
    "# Example usage\n",
    "text = Path('data/small_corpus.txt').read_text(encoding='utf-8')"
   ]
  },
  {
   "cell_type": "code",
   "execution_count": 8,
   "metadata": {},
   "outputs": [],
   "source": [
    "def extract_unique_words(text):\n",
    "    # Lowercase and tokenize the text\n",
    "    text = text.lower()\n",
    "    words = word_tokenize(text)\n",
    "\n",
    "    # Remove punctuation\n",
    "    words = [word for word in words if word.isalpha()]\n",
    "\n",
    "    # Count the number of words and unique words\n",
    "    print(\"# of words in the text: \", len(words))\n",
    "\n",
    "    unique_words = sorted(set(words))\n",
    "    print(\"# of unqiue words in the text: \", len(unique_words))\n",
    "\n",
    "    return unique_words"
   ]
  },
  {
   "cell_type": "code",
   "execution_count": 11,
   "metadata": {},
   "outputs": [
    {
     "name": "stdout",
     "output_type": "stream",
     "text": [
      "# of words in the text:  210000\n",
      "# of unqiue words in the text:  20\n"
     ]
    }
   ],
   "source": [
    "unique_words = extract_unique_words(text)"
   ]
  },
  {
   "cell_type": "code",
   "execution_count": 15,
   "metadata": {},
   "outputs": [],
   "source": [
    "def generate_cbows(text, window_size):\n",
    "    # Lowercase and tokenize the text\n",
    "    text = text.lower()\n",
    "    words = word_tokenize(text)\n",
    "\n",
    "    # Remove punctuation\n",
    "    words = [word for word in words if word.isalpha()]\n",
    "\n",
    "    # Remove stop words\n",
    "    stop_words = set(stopwords.words('english'))\n",
    "    words = [word for word in words if word not in stop_words]\n",
    "\n",
    "    # Create CBOW pairs with a given window size\n",
    "    cbows = []\n",
    "    for i, target_word in enumerate(words):\n",
    "        context_words = words[max(0, i - window_size):i] + \\\n",
    "            words[i + 1:i + window_size + 1]\n",
    "        if len(context_words) == window_size * 2:\n",
    "            cbows.append((context_words, target_word))\n",
    "    return cbows"
   ]
  },
  {
   "cell_type": "code",
   "execution_count": 16,
   "metadata": {},
   "outputs": [
    {
     "name": "stdout",
     "output_type": "stream",
     "text": [
      "Context Words: ['pet', 'house', 'dog', 'play', 'animal', 'sleep'], Target Word: cat\n",
      "Context Words: ['house', 'dog', 'cat', 'animal', 'sleep', 'pet'], Target Word: play\n",
      "Context Words: ['dog', 'cat', 'play', 'sleep', 'pet', 'animal'], Target Word: animal\n"
     ]
    }
   ],
   "source": [
    "# Create cbows\n",
    "cbows = generate_cbows(text, window_size=3)\n",
    "\n",
    "# Display the results\n",
    "for context_words, target_word in cbows[:3]:\n",
    "    print(f'Context Words: {context_words}, Target Word: {target_word}')"
   ]
  },
  {
   "cell_type": "code",
   "execution_count": 17,
   "metadata": {},
   "outputs": [],
   "source": [
    "def one_hot_encoding(word, unique_words):\n",
    "    encoding = [1 if word == w else 0 for w in unique_words]\n",
    "    return torch.tensor(encoding, dtype=torch.float32)"
   ]
  },
  {
   "cell_type": "code",
   "execution_count": 18,
   "metadata": {},
   "outputs": [
    {
     "data": {
      "text/plain": [
       "tensor([0., 0., 0., 0., 0., 0., 0., 0., 0., 0., 0., 0., 1., 0., 0., 0., 0., 0.,\n",
       "        0., 0.])"
      ]
     },
     "execution_count": 18,
     "metadata": {},
     "output_type": "execute_result"
    }
   ],
   "source": [
    "# Create one-hot encodings for each word\n",
    "one_hot_encodings = {word: one_hot_encoding(\n",
    "    word, unique_words) for word in unique_words}\n",
    "one_hot_encodings['king']"
   ]
  },
  {
   "cell_type": "code",
   "execution_count": 19,
   "metadata": {},
   "outputs": [],
   "source": [
    "# Convert CBOW pairs to vector pairs\n",
    "cbow_vector_pairs = [([one_hot_encodings[word] for word in context_words],\n",
    "                      one_hot_encodings[target_word]) for context_words, target_word in cbows]"
   ]
  },
  {
   "cell_type": "code",
   "execution_count": 20,
   "metadata": {},
   "outputs": [
    {
     "data": {
      "text/plain": [
       "[tensor([0., 0., 0., 0., 0., 0., 0., 0., 0., 0., 0., 0., 0., 0., 0., 1., 0., 0.,\n",
       "         0., 0.]),\n",
       " tensor([0., 0., 0., 0., 0., 0., 0., 0., 0., 0., 0., 1., 0., 0., 0., 0., 0., 0.,\n",
       "         0., 0.]),\n",
       " tensor([0., 0., 0., 0., 0., 0., 1., 0., 0., 0., 0., 0., 0., 0., 0., 0., 0., 0.,\n",
       "         0., 0.]),\n",
       " tensor([0., 0., 0., 0., 0., 0., 0., 0., 0., 0., 0., 0., 0., 0., 0., 0., 1., 0.,\n",
       "         0., 0.]),\n",
       " tensor([1., 0., 0., 0., 0., 0., 0., 0., 0., 0., 0., 0., 0., 0., 0., 0., 0., 0.,\n",
       "         0., 0.]),\n",
       " tensor([0., 0., 0., 0., 0., 0., 0., 0., 0., 0., 0., 0., 0., 0., 0., 0., 0., 0.,\n",
       "         0., 1.])]"
      ]
     },
     "execution_count": 20,
     "metadata": {},
     "output_type": "execute_result"
    }
   ],
   "source": [
    "cbow_vector_pairs[0][0]  # contains the 6 context word one-hot encoded vectors"
   ]
  },
  {
   "cell_type": "code",
   "execution_count": 21,
   "metadata": {},
   "outputs": [
    {
     "data": {
      "text/plain": [
       "tensor([0., 0., 0., 1., 0., 0., 0., 0., 0., 0., 0., 0., 0., 0., 0., 0., 0., 0.,\n",
       "        0., 0.])"
      ]
     },
     "execution_count": 21,
     "metadata": {},
     "output_type": "execute_result"
    }
   ],
   "source": [
    "cbow_vector_pairs[0][1]  # contains the center word as one-hot encoded vector"
   ]
  },
  {
   "cell_type": "code",
   "execution_count": 22,
   "metadata": {},
   "outputs": [],
   "source": [
    "# Sum the context vectors to get a single context vector\n",
    "cbow_vector_pairs = [(torch.sum(torch.stack(context_vectors), dim=0), target_vector)\n",
    "                     for context_vectors, target_vector in cbow_vector_pairs]"
   ]
  },
  {
   "cell_type": "code",
   "execution_count": 23,
   "metadata": {},
   "outputs": [
    {
     "data": {
      "text/plain": [
       "(tensor([1., 0., 0., 0., 0., 0., 1., 0., 0., 0., 0., 1., 0., 0., 0., 1., 1., 0.,\n",
       "         0., 1.]),\n",
       " tensor([0., 0., 0., 1., 0., 0., 0., 0., 0., 0., 0., 0., 0., 0., 0., 0., 0., 0.,\n",
       "         0., 0.]))"
      ]
     },
     "execution_count": 23,
     "metadata": {},
     "output_type": "execute_result"
    }
   ],
   "source": [
    "cbow_vector_pairs[0]"
   ]
  },
  {
   "cell_type": "code",
   "execution_count": 24,
   "metadata": {},
   "outputs": [],
   "source": [
    "class CustomDataset(Dataset):\n",
    "    def __init__(self, data):\n",
    "        self.inputs = [item[0] for item in data]\n",
    "        self.outputs = [item[1] for item in data]\n",
    "\n",
    "    def __len__(self):\n",
    "        return len(self.inputs)\n",
    "\n",
    "    def __getitem__(self, idx):\n",
    "        input_sample = self.inputs[idx]\n",
    "        output_sample = self.outputs[idx]\n",
    "        return input_sample, output_sample"
   ]
  },
  {
   "cell_type": "code",
   "execution_count": 25,
   "metadata": {},
   "outputs": [],
   "source": [
    "# Shuffle pairs before training\n",
    "cbow_vector_pairs = random.sample(cbow_vector_pairs, len(cbow_vector_pairs))\n",
    "\n",
    "# Train and Val split\n",
    "split_index = int(len(cbow_vector_pairs) * 0.90)\n",
    "\n",
    "# Split the data into training and test sets\n",
    "train_dataset = CustomDataset(cbow_vector_pairs[:split_index])\n",
    "test_dataset = CustomDataset(cbow_vector_pairs[split_index:])\n",
    "\n",
    "# Set batch size\n",
    "batch_size = 64  # You can adjust this based on your requirements\n",
    "\n",
    "# Create DataLoader for training and test sets\n",
    "train_dataloader = DataLoader(\n",
    "    train_dataset, batch_size=batch_size, shuffle=True)\n",
    "validation_dataloader = DataLoader(\n",
    "    test_dataset, batch_size=batch_size, shuffle=False)"
   ]
  },
  {
   "cell_type": "code",
   "execution_count": 26,
   "metadata": {},
   "outputs": [],
   "source": [
    "class NaiveWord2Vec(nn.Module):\n",
    "\n",
    "    def __init__(self, VOCAB_SIZE, VECTOR_DIM) -> None:\n",
    "        super().__init__()\n",
    "\n",
    "        self.vocab_size = VOCAB_SIZE\n",
    "        self.vector_dim = VECTOR_DIM\n",
    "        self.W1 = nn.Parameter(data=torch.randn(\n",
    "            self.vocab_size, self.vector_dim), requires_grad=True)  # Word Vectors\n",
    "        self.W2 = nn.Parameter(data=torch.randn(\n",
    "            self.vector_dim, self.vocab_size), requires_grad=True)\n",
    "\n",
    "    def forward(self, X) -> torch.tensor:\n",
    "        X = X @ self.W1\n",
    "        X = X @ self.W2\n",
    "\n",
    "        return X"
   ]
  },
  {
   "cell_type": "code",
   "execution_count": 27,
   "metadata": {},
   "outputs": [],
   "source": [
    "VOCAB_SIZE = len(unique_words)\n",
    "VECTOR_DIM = 2"
   ]
  },
  {
   "cell_type": "markdown",
   "metadata": {},
   "source": [
    "Train model"
   ]
  },
  {
   "cell_type": "code",
   "execution_count": 28,
   "metadata": {},
   "outputs": [],
   "source": [
    "model = NaiveWord2Vec(VOCAB_SIZE, VECTOR_DIM)"
   ]
  },
  {
   "cell_type": "code",
   "execution_count": 29,
   "metadata": {},
   "outputs": [],
   "source": [
    "def train_model(model, train_dataloader, validation_dataloader, epochs, learning_rate, verbose=False):\n",
    "\n",
    "    # Create the loss function\n",
    "    loss_fn = nn.CrossEntropyLoss()\n",
    "    # Create the optimizer object\n",
    "    optimizer = torch.optim.Adam(params=model.parameters(), lr=learning_rate)\n",
    "\n",
    "    # Log the loss values\n",
    "    train_set_loss_log = []\n",
    "    validation_set_loss_log = []\n",
    "\n",
    "    for epoch in range(epochs):\n",
    "        if verbose:\n",
    "            print(\"Epoch: \", epoch)\n",
    "        # Training mode on\n",
    "        model.train()\n",
    "        total_train_loss = 0.0\n",
    "        num_train_batches = 0\n",
    "\n",
    "        for inputs_batch, outputs_batch in train_dataloader:\n",
    "\n",
    "            y_train_logits = model(inputs_batch)\n",
    "            train_loss = loss_fn(y_train_logits, outputs_batch)\n",
    "\n",
    "            optimizer.zero_grad()\n",
    "            train_loss.backward()\n",
    "            optimizer.step()\n",
    "\n",
    "            total_train_loss += train_loss.item()\n",
    "            num_train_batches += 1\n",
    "\n",
    "        # Calculate average training loss for the epoch\n",
    "        average_train_loss = total_train_loss / num_train_batches\n",
    "        train_set_loss_log.append(average_train_loss)\n",
    "\n",
    "        # Eval mode on\n",
    "        model.eval()\n",
    "        total_validation_loss = 0.0\n",
    "        num_validation_batches = 0\n",
    "\n",
    "        with torch.inference_mode():\n",
    "            for inputs_batch, outputs_batch in validation_dataloader:\n",
    "                # Evaluate the validation loss\n",
    "                y_val_logits = model(inputs_batch)\n",
    "                validation_loss = loss_fn(y_val_logits, outputs_batch)\n",
    "\n",
    "                total_validation_loss += validation_loss.item()\n",
    "                num_validation_batches += 1\n",
    "\n",
    "        # Calculate average validation loss for the epoch\n",
    "        average_validation_loss = total_validation_loss / num_validation_batches\n",
    "        validation_set_loss_log.append(average_validation_loss)\n",
    "\n",
    "        if verbose:\n",
    "            print(\"Train Loss: \", average_train_loss, \"|||\",\n",
    "                  \"Validation Loss: \", average_validation_loss)\n",
    "\n",
    "    return model, train_set_loss_log, validation_set_loss_log"
   ]
  },
  {
   "cell_type": "code",
   "execution_count": 30,
   "metadata": {},
   "outputs": [
    {
     "name": "stdout",
     "output_type": "stream",
     "text": [
      "Epoch:  0\n",
      "Train Loss:  2.0772249536410974 ||| Validation Loss:  1.8623625054547852\n",
      "Epoch:  1\n",
      "Train Loss:  1.8573384729284004 ||| Validation Loss:  1.8629499427453362\n",
      "Epoch:  2\n",
      "Train Loss:  1.8534841711002987 ||| Validation Loss:  1.8774125003524826\n"
     ]
    }
   ],
   "source": [
    "model, train_set_loss_log, validation_set_loss_log = train_model(model, train_dataloader, validation_dataloader,\n",
    "                                                                 epochs=3, learning_rate=0.01, verbose=True)"
   ]
  },
  {
   "cell_type": "code",
   "execution_count": 31,
   "metadata": {},
   "outputs": [
    {
     "data": {
      "image/png": "[encoded data removed]",
      "text/plain": [
       "<Figure size 640x480 with 1 Axes>"
      ]
     },
     "metadata": {},
     "output_type": "display_data"
    }
   ],
   "source": [
    "plt.plot(train_set_loss_log, color='red', label='train_loss')\n",
    "plt.plot(validation_set_loss_log, color='blue', label='validation_loss')\n",
    "\n",
    "plt.title(\"Loss During Training\")\n",
    "plt.xlabel(\"Epoch\")\n",
    "plt.ylabel(\"Cross Entropy\")\n",
    "plt.legend()\n",
    "plt.show()"
   ]
  },
  {
   "cell_type": "code",
   "execution_count": 32,
   "metadata": {},
   "outputs": [],
   "source": [
    "# Word Vectors\n",
    "params = list(model.parameters())\n",
    "word_vectors = params[0].detach()"
   ]
  },
  {
   "cell_type": "code",
   "execution_count": 33,
   "metadata": {},
   "outputs": [],
   "source": [
    "# Create a dictionary with the same order mapping\n",
    "word_dict = {word: vector for word, vector in zip(unique_words, word_vectors)}"
   ]
  },
  {
   "cell_type": "code",
   "execution_count": 34,
   "metadata": {},
   "outputs": [],
   "source": [
    "def cosine_similarity(v1, v2):\n",
    "    return (v1 @ v2) / (torch.norm(v1) * torch.norm(v2))\n",
    "\n",
    "\n",
    "def most_similar(word, word_dict, top_k=5):\n",
    "    if word not in word_dict:\n",
    "        raise ValueError(f\"{word} not found in the word dictionary.\")\n",
    "\n",
    "    query_vector = word_dict[word]\n",
    "\n",
    "    # Calculate cosine similarity with all other words in the dictionary\n",
    "    similarities = {}\n",
    "    for other_word, other_vector in word_dict.items():\n",
    "        if other_word != word:\n",
    "            similarity = cosine_similarity(query_vector, other_vector)\n",
    "            similarities[other_word] = similarity\n",
    "\n",
    "    # Sort the words by similarity in descending order\n",
    "    sorted_similarities = sorted(\n",
    "        similarities.items(), key=lambda x: x[1], reverse=True)\n",
    "\n",
    "    # Get the top-k most similar words\n",
    "    top_similar_words = sorted_similarities[:top_k]\n",
    "\n",
    "    return top_similar_words"
   ]
  },
  {
   "cell_type": "code",
   "execution_count": 35,
   "metadata": {},
   "outputs": [
    {
     "data": {
      "text/plain": [
       "{'animal': tensor([-0.9361,  0.1166]),\n",
       " 'boy': tensor([-0.0041,  0.6971]),\n",
       " 'castle': tensor([ 0.2931, -0.0789]),\n",
       " 'cat': tensor([-6.8003,  0.6972]),\n",
       " 'country': tensor([-0.0617, -0.1864]),\n",
       " 'crown': tensor([-0.3955, -3.6957]),\n",
       " 'dog': tensor([-0.9382,  0.0587]),\n",
       " 'empire': tensor([ 0.1563, -0.1850]),\n",
       " 'family': tensor([-0.5838,  2.1346]),\n",
       " 'father': tensor([-0.2816,  0.3760]),\n",
       " 'girl': tensor([-0.0125,  1.0509]),\n",
       " 'house': tensor([ 0.3607, -0.9868]),\n",
       " 'king': tensor([ 2.7999, -1.4589]),\n",
       " 'marriage': tensor([0.1632, 1.2436]),\n",
       " 'mother': tensor([0.1636, 1.8670]),\n",
       " 'pet': tensor([-0.9203,  0.0356]),\n",
       " 'play': tensor([-0.7011,  0.0992]),\n",
       " 'queen': tensor([ 0.1251, -0.2160]),\n",
       " 'rule': tensor([ 0.1112, -0.2404]),\n",
       " 'sleep': tensor([-0.9291,  0.0652])}"
      ]
     },
     "execution_count": 35,
     "metadata": {},
     "output_type": "execute_result"
    }
   ],
   "source": [
    "word_dict"
   ]
  },
  {
   "cell_type": "code",
   "execution_count": 36,
   "metadata": {},
   "outputs": [
    {
     "data": {
      "text/plain": [
       "tensor([-0.9382,  0.0587])"
      ]
     },
     "execution_count": 36,
     "metadata": {},
     "output_type": "execute_result"
    }
   ],
   "source": [
    "word_dict['dog']"
   ]
  },
  {
   "cell_type": "code",
   "execution_count": 37,
   "metadata": {},
   "outputs": [
    {
     "data": {
      "text/plain": [
       "[('sleep', tensor(1.0000)),\n",
       " ('pet', tensor(0.9997)),\n",
       " ('cat', tensor(0.9992)),\n",
       " ('animal', tensor(0.9981)),\n",
       " ('play', tensor(0.9970))]"
      ]
     },
     "execution_count": 37,
     "metadata": {},
     "output_type": "execute_result"
    }
   ],
   "source": [
    "most_similar('dog', word_dict)"
   ]
  },
  {
   "cell_type": "code",
   "execution_count": 38,
   "metadata": {},
   "outputs": [
    {
     "data": {
      "text/plain": [
       "[('family', tensor(0.9302)),\n",
       " ('girl', tensor(0.8075)),\n",
       " ('boy', tensor(0.8039)),\n",
       " ('mother', tensor(0.7450)),\n",
       " ('marriage', tensor(0.7156))]"
      ]
     },
     "execution_count": 38,
     "metadata": {},
     "output_type": "execute_result"
    }
   ],
   "source": [
    "most_similar('father', word_dict)"
   ]
  },
  {
   "cell_type": "code",
   "execution_count": 39,
   "metadata": {},
   "outputs": [
    {
     "data": {
      "text/plain": [
       "[('rule', tensor(0.9958)),\n",
       " ('house', tensor(0.9848)),\n",
       " ('empire', tensor(0.9845)),\n",
       " ('king', tensor(0.8443)),\n",
       " ('crown', tensor(0.8072))]"
      ]
     },
     "execution_count": 39,
     "metadata": {},
     "output_type": "execute_result"
    }
   ],
   "source": [
    "most_similar('queen', word_dict)"
   ]
  },
  {
   "cell_type": "code",
   "execution_count": 40,
   "metadata": {},
   "outputs": [
    {
     "data": {
      "text/plain": [
       "tensor(0.7450)"
      ]
     },
     "execution_count": 40,
     "metadata": {},
     "output_type": "execute_result"
    }
   ],
   "source": [
    "cosine_similarity(word_dict['father'], word_dict['mother'])"
   ]
  },
  {
   "cell_type": "code",
   "execution_count": 41,
   "metadata": {},
   "outputs": [
    {
     "data": {
      "text/plain": [
       "tensor(-0.9071)"
      ]
     },
     "execution_count": 41,
     "metadata": {},
     "output_type": "execute_result"
    }
   ],
   "source": [
    "cosine_similarity(word_dict['family'], word_dict['empire'])"
   ]
  },
  {
   "cell_type": "code",
   "execution_count": 42,
   "metadata": {},
   "outputs": [
    {
     "data": {
      "image/png": "[encoded data removed]",
      "text/plain": [
       "<Figure size 1000x800 with 1 Axes>"
      ]
     },
     "metadata": {},
     "output_type": "display_data"
    }
   ],
   "source": [
    "x_coords, y_coords = zip(*[word_dict[word].numpy()\n",
    "                         for word in list(word_dict.keys())])\n",
    "\n",
    "plt.figure(figsize=(10, 8))\n",
    "plt.scatter(x_coords, y_coords, marker='o', color='blue')\n",
    "\n",
    "for i, word in enumerate(list(word_dict.keys())):\n",
    "    plt.annotate(word, (x_coords[i], y_coords[i]),\n",
    "                 textcoords=\"offset points\", xytext=(0, 5), ha='center')\n",
    "\n",
    "plt.title('Word Embeddings')\n",
    "plt.xlabel('Dimension 1')\n",
    "plt.ylabel('Dimension 2')\n",
    "plt.xlim(-2, 2)\n",
    "plt.ylim(-2, 2)\n",
    "plt.grid(True)\n",
    "plt.show()"
   ]
  },
  {
   "cell_type": "code",
   "execution_count": 44,
   "metadata": {},
   "outputs": [
    {
     "name": "stdout",
     "output_type": "stream",
     "text": [
      "Dictionary has been exported to data/pretrained_word_vectors.json\n"
     ]
    }
   ],
   "source": [
    "# Specify the file path where you want to save the JSON file\n",
    "file_path = 'data/pretrained_word_vectors.json'\n",
    "\n",
    "# Convert torch.Tensor objects to lists\n",
    "word_vec_for_export = word_dict.copy()\n",
    "for key, value in word_vec_for_export.items():\n",
    "    if isinstance(value, torch.Tensor):\n",
    "        word_vec_for_export[key] = value.tolist()\n",
    "\n",
    "# Use json.dump to write the modified dictionary to a JSON file\n",
    "with open(file_path, 'w') as json_file:\n",
    "    json.dump(word_vec_for_export, json_file, indent=2)\n",
    "\n",
    "print(f'Dictionary has been exported to {file_path}')"
   ]
  }
 ],
 "metadata": {
  "kernelspec": {
   "display_name": "Python 3",
   "language": "python",
   "name": "python3"
  },
  "language_info": {
   "codemirror_mode": {
    "name": "ipython",
    "version": 3
   },
   "file_extension": ".py",
   "mimetype": "text/x-python",
   "name": "python",
   "nbconvert_exporter": "python",
   "pygments_lexer": "ipython3",
   "version": "3.10.12"
  }
 },
 "nbformat": 4,
 "nbformat_minor": 2
}
